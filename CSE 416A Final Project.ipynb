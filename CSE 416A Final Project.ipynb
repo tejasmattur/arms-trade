{
 "cells": [
  {
   "cell_type": "markdown",
   "id": "bdd1fc9e",
   "metadata": {},
   "source": [
    "# Arms Trade Network Analysis\n",
    "#### Dhruv Patel, Amrit Johar, Tejas Mattur"
   ]
  },
  {
   "cell_type": "markdown",
   "id": "59f262ce",
   "metadata": {},
   "source": [
    "### Package Imports"
   ]
  },
  {
   "cell_type": "code",
   "execution_count": 1,
   "id": "2e6198a8",
   "metadata": {},
   "outputs": [],
   "source": [
    "import numpy as np\n",
    "import matplotlib.pyplot as plt\n",
    "import networkx as nx\n",
    "from networkx.algorithms import bipartite\n",
    "import csv\n",
    "import os\n",
    "import pandas as pd\n",
    "import random\n",
    "import numpy\n",
    "from matplotlib import pyplot\n",
    "from collections import Counter\n",
    "from operator import itemgetter\n",
    "from networkx.algorithms.approximation import clique\n",
    "from collections import Counter\n",
    "from operator import itemgetter"
   ]
  },
  {
   "cell_type": "markdown",
   "id": "3c3fee7f",
   "metadata": {},
   "source": [
    "### Network Construction"
   ]
  },
  {
   "cell_type": "code",
   "execution_count": 2,
   "id": "f43b832d",
   "metadata": {},
   "outputs": [],
   "source": [
    "def create_digraph(G):\n",
    "    D = nx.DiGraph()\n",
    "    for u,v in G.edges():\n",
    "        if D.has_edge(u,v):\n",
    "            D[u][v]['weight'] += 1\n",
    "        else:\n",
    "            D.add_edge(u, v, weight=1)\n",
    "    return D"
   ]
  },
  {
   "cell_type": "code",
   "execution_count": 3,
   "id": "864fe92c",
   "metadata": {},
   "outputs": [],
   "source": [
    "data = pd.read_csv('data.csv')\n",
    "G = nx.from_pandas_edgelist(data, 'Seller', 'Buyer', create_using=nx.MultiDiGraph)\n",
    "D = create_digraph(G)"
   ]
  },
  {
   "cell_type": "code",
   "execution_count": 4,
   "id": "94ca2335",
   "metadata": {},
   "outputs": [
    {
     "name": "stdout",
     "output_type": "stream",
     "text": [
      "nodes: 264\n",
      "edges: 2992\n"
     ]
    },
    {
     "data": {
      "text/html": [
       "<div>\n",
       "<style scoped>\n",
       "    .dataframe tbody tr th:only-of-type {\n",
       "        vertical-align: middle;\n",
       "    }\n",
       "\n",
       "    .dataframe tbody tr th {\n",
       "        vertical-align: top;\n",
       "    }\n",
       "\n",
       "    .dataframe thead th {\n",
       "        text-align: right;\n",
       "    }\n",
       "</style>\n",
       "<table border=\"1\" class=\"dataframe\">\n",
       "  <thead>\n",
       "    <tr style=\"text-align: right;\">\n",
       "      <th></th>\n",
       "      <th>YearOrdered</th>\n",
       "      <th>AmountOrdered</th>\n",
       "      <th>YearDelivered</th>\n",
       "      <th>Designation</th>\n",
       "      <th>Category</th>\n",
       "      <th>Description</th>\n",
       "      <th>AmountDelivered</th>\n",
       "      <th>Buyer</th>\n",
       "      <th>Seller</th>\n",
       "    </tr>\n",
       "  </thead>\n",
       "  <tbody>\n",
       "    <tr>\n",
       "      <th>0</th>\n",
       "      <td>2011</td>\n",
       "      <td>12.0</td>\n",
       "      <td>2011</td>\n",
       "      <td>PM-43 120mm</td>\n",
       "      <td>Artillery</td>\n",
       "      <td>Mortar</td>\n",
       "      <td>12.0</td>\n",
       "      <td>Burkina Faso</td>\n",
       "      <td>Albania</td>\n",
       "    </tr>\n",
       "    <tr>\n",
       "      <th>1</th>\n",
       "      <td>1980</td>\n",
       "      <td>4.0</td>\n",
       "      <td>1980</td>\n",
       "      <td>N-262 Fregate</td>\n",
       "      <td>Aircraft</td>\n",
       "      <td>Transport Aircraft</td>\n",
       "      <td>4.0</td>\n",
       "      <td>Angola</td>\n",
       "      <td>Algeria</td>\n",
       "    </tr>\n",
       "    <tr>\n",
       "      <th>2</th>\n",
       "      <td>1967</td>\n",
       "      <td>2.0</td>\n",
       "      <td>1968</td>\n",
       "      <td>Il-28</td>\n",
       "      <td>Aircraft</td>\n",
       "      <td>Bomber Aircraft</td>\n",
       "      <td>2.0</td>\n",
       "      <td>Nigeria</td>\n",
       "      <td>Algeria</td>\n",
       "    </tr>\n",
       "    <tr>\n",
       "      <th>3</th>\n",
       "      <td>2016</td>\n",
       "      <td>3.0</td>\n",
       "      <td>2016</td>\n",
       "      <td>BTR-60PB</td>\n",
       "      <td>Armoured vehicles</td>\n",
       "      <td>Apc</td>\n",
       "      <td>3.0</td>\n",
       "      <td>Western Sahara</td>\n",
       "      <td>Algeria</td>\n",
       "    </tr>\n",
       "    <tr>\n",
       "      <th>4</th>\n",
       "      <td>1979</td>\n",
       "      <td>1.0</td>\n",
       "      <td>1979</td>\n",
       "      <td>Noratlas</td>\n",
       "      <td>Aircraft</td>\n",
       "      <td>Transport Aircraft</td>\n",
       "      <td>1.0</td>\n",
       "      <td>Congo</td>\n",
       "      <td>Angola</td>\n",
       "    </tr>\n",
       "    <tr>\n",
       "      <th>...</th>\n",
       "      <td>...</td>\n",
       "      <td>...</td>\n",
       "      <td>...</td>\n",
       "      <td>...</td>\n",
       "      <td>...</td>\n",
       "      <td>...</td>\n",
       "      <td>...</td>\n",
       "      <td>...</td>\n",
       "      <td>...</td>\n",
       "    </tr>\n",
       "    <tr>\n",
       "      <th>27760</th>\n",
       "      <td>1970</td>\n",
       "      <td>2.0</td>\n",
       "      <td>1971</td>\n",
       "      <td>G-2A Galeb</td>\n",
       "      <td>Aircraft</td>\n",
       "      <td>Trainer Aircraft</td>\n",
       "      <td>2.0</td>\n",
       "      <td>Zambia</td>\n",
       "      <td>Yugoslavia</td>\n",
       "    </tr>\n",
       "    <tr>\n",
       "      <th>27761</th>\n",
       "      <td>1970</td>\n",
       "      <td>4.0</td>\n",
       "      <td>1971</td>\n",
       "      <td>J-21 Jastreb</td>\n",
       "      <td>Aircraft</td>\n",
       "      <td>Ground Attack Ac</td>\n",
       "      <td>4.0</td>\n",
       "      <td>Zambia</td>\n",
       "      <td>Yugoslavia</td>\n",
       "    </tr>\n",
       "    <tr>\n",
       "      <th>27762</th>\n",
       "      <td>1989</td>\n",
       "      <td>1.0</td>\n",
       "      <td>1990</td>\n",
       "      <td>DHC-4 Caribou</td>\n",
       "      <td>Aircraft</td>\n",
       "      <td>Transport Aircraft</td>\n",
       "      <td>1.0</td>\n",
       "      <td>Liberia</td>\n",
       "      <td>Zambia</td>\n",
       "    </tr>\n",
       "    <tr>\n",
       "      <th>27763</th>\n",
       "      <td>2000</td>\n",
       "      <td>10.0</td>\n",
       "      <td>2001</td>\n",
       "      <td>2S1 122mm</td>\n",
       "      <td>Artillery</td>\n",
       "      <td>Self-Propelled Gun</td>\n",
       "      <td>10.0</td>\n",
       "      <td>Czechia</td>\n",
       "      <td>Zimbabwe</td>\n",
       "    </tr>\n",
       "    <tr>\n",
       "      <th>27764</th>\n",
       "      <td>1964</td>\n",
       "      <td>2.0</td>\n",
       "      <td>1964</td>\n",
       "      <td>Pembroke</td>\n",
       "      <td>Aircraft</td>\n",
       "      <td>Light Transport Ac</td>\n",
       "      <td>2.0</td>\n",
       "      <td>Zambia</td>\n",
       "      <td>Zimbabwe</td>\n",
       "    </tr>\n",
       "  </tbody>\n",
       "</table>\n",
       "<p>27765 rows × 9 columns</p>\n",
       "</div>"
      ],
      "text/plain": [
       "       YearOrdered  AmountOrdered  YearDelivered    Designation  \\\n",
       "0             2011           12.0           2011    PM-43 120mm   \n",
       "1             1980            4.0           1980  N-262 Fregate   \n",
       "2             1967            2.0           1968          Il-28   \n",
       "3             2016            3.0           2016       BTR-60PB   \n",
       "4             1979            1.0           1979       Noratlas   \n",
       "...            ...            ...            ...            ...   \n",
       "27760         1970            2.0           1971     G-2A Galeb   \n",
       "27761         1970            4.0           1971   J-21 Jastreb   \n",
       "27762         1989            1.0           1990  DHC-4 Caribou   \n",
       "27763         2000           10.0           2001      2S1 122mm   \n",
       "27764         1964            2.0           1964       Pembroke   \n",
       "\n",
       "                Category         Description  AmountDelivered           Buyer  \\\n",
       "0              Artillery              Mortar             12.0    Burkina Faso   \n",
       "1               Aircraft  Transport Aircraft              4.0          Angola   \n",
       "2               Aircraft     Bomber Aircraft              2.0         Nigeria   \n",
       "3      Armoured vehicles                 Apc              3.0  Western Sahara   \n",
       "4               Aircraft  Transport Aircraft              1.0           Congo   \n",
       "...                  ...                 ...              ...             ...   \n",
       "27760           Aircraft    Trainer Aircraft              2.0          Zambia   \n",
       "27761           Aircraft    Ground Attack Ac              4.0          Zambia   \n",
       "27762           Aircraft  Transport Aircraft              1.0         Liberia   \n",
       "27763          Artillery  Self-Propelled Gun             10.0         Czechia   \n",
       "27764           Aircraft  Light Transport Ac              2.0          Zambia   \n",
       "\n",
       "           Seller  \n",
       "0         Albania  \n",
       "1         Algeria  \n",
       "2         Algeria  \n",
       "3         Algeria  \n",
       "4          Angola  \n",
       "...           ...  \n",
       "27760  Yugoslavia  \n",
       "27761  Yugoslavia  \n",
       "27762      Zambia  \n",
       "27763    Zimbabwe  \n",
       "27764    Zimbabwe  \n",
       "\n",
       "[27765 rows x 9 columns]"
      ]
     },
     "execution_count": 4,
     "metadata": {},
     "output_type": "execute_result"
    }
   ],
   "source": [
    "print(f'nodes: {D.number_of_nodes()}')\n",
    "print(f'edges: {D.number_of_edges()}')\n",
    "data"
   ]
  },
  {
   "cell_type": "code",
   "execution_count": 5,
   "id": "dad24df1",
   "metadata": {},
   "outputs": [],
   "source": [
    "def graphing(G):\n",
    "    plt.figure(figsize=(12, 8)) \n",
    "    degrees = [G.degree(n) for n in G.nodes()]\n",
    "    degree_counts = Counter(degrees)                                                                                                 \n",
    "    x, y = zip(*degree_counts.items())\n",
    "    plt.scatter(x, y, marker='.',  color = 'purple')  \n",
    "    plt.title('Degree Distribution of Arms Trade in Log-Log scale', fontsize=20)\n",
    "    plt.yscale('log')\n",
    "    plt.xscale('log')\n",
    "    plt.xlabel('Degree (Log)', fontsize=14)\n",
    "    plt.ylabel('Frequency (Log)', fontsize=14)\n",
    "    plt.show()"
   ]
  },
  {
   "cell_type": "code",
   "execution_count": 6,
   "id": "55d70ed9",
   "metadata": {},
   "outputs": [
    {
     "data": {
      "image/png": "[encoded data removed]",
      "text/plain": [
       "<Figure size 864x576 with 1 Axes>"
      ]
     },
     "metadata": {
      "needs_background": "light"
     },
     "output_type": "display_data"
    }
   ],
   "source": [
    "graphing(D)"
   ]
  },
  {
   "cell_type": "markdown",
   "id": "6c08ebc3",
   "metadata": {},
   "source": [
    "### Centrality Functions"
   ]
  },
  {
   "cell_type": "code",
   "execution_count": 7,
   "id": "875c2dc8",
   "metadata": {},
   "outputs": [],
   "source": [
    "# degree centrality\n",
    "def in_degreeCentralityMeasure(G, n):\n",
    "    d = nx.in_degree_centrality(G)\n",
    "    top = dict(Counter(d).most_common(n))\n",
    "    return top\n",
    "def out_degreeCentralityMeasure(G, n):\n",
    "    d = nx.out_degree_centrality(G)\n",
    "    top = dict(Counter(d).most_common(n))\n",
    "    return top\n",
    "def degreeCentralityMeasure(G, n):\n",
    "    d = nx.degree_centrality(G)\n",
    "    top = dict(Counter(d).most_common(n))\n",
    "    return top\n",
    "# closeness centrality\n",
    "def closenessFinder(G, n):\n",
    "    d = nx.closeness_centrality(G)\n",
    "    top = dict(Counter(d).most_common(n))\n",
    "    return top\n",
    "# eigenVector centrality\n",
    "def eigenVectorCentrality(G, n):\n",
    "    d= nx.eigenvector_centrality(D)\n",
    "    top = dict(Counter(d).most_common(n))\n",
    "    return top\n",
    "# betweenness centrality\n",
    "def betweennessCentrality(G, n):\n",
    "    d= nx.betweenness_centrality(D)\n",
    "    top = dict(Counter(d).most_common(n))\n",
    "    return top"
   ]
  },
  {
   "cell_type": "markdown",
   "id": "78ae9c99",
   "metadata": {},
   "source": [
    "### Full Graph Centralities"
   ]
  },
  {
   "cell_type": "code",
   "execution_count": 8,
   "id": "54fb7117",
   "metadata": {},
   "outputs": [
    {
     "name": "stdout",
     "output_type": "stream",
     "text": [
      "in-degree {'Iraq': 0.1482889733840304, 'Indonesia': 0.13688212927756654, 'Nigeria': 0.13307984790874525, 'Egypt': 0.13307984790874525, 'United States': 0.12927756653992395}\n",
      "\n",
      "out-degree {'United States': 0.688212927756654, 'France': 0.5399239543726235, 'United Kingdom': 0.4752851711026616, 'Germany': 0.4524714828897338, 'Italy': 0.44866920152091255}\n",
      "\n",
      "betweenness {'United States': 0.12674516266348312, 'France': 0.03687077668146762, 'Israel': 0.03581671847943496, 'United Kingdom': 0.0336519506975175, 'Jordan': 0.02696062875203462}\n",
      "\n",
      "closeness {'United States': 0.22650977974171893, 'Iraq': 0.22549404081911034, 'Nigeria': 0.22348964934516263, 'Jordan': 0.21674642716664483, 'Indonesia': 0.21489389360111794}\n",
      "\n",
      "eigenvector {'Iraq': 0.1604787453587017, 'Jordan': 0.15369117467246535, 'Nigeria': 0.15100487245856808, 'Indonesia': 0.15095463320994704, 'Pakistan': 0.14789072171562415}\n"
     ]
    }
   ],
   "source": [
    "print(\"in-degree\", in_degreeCentralityMeasure(D, 5))\n",
    "print()\n",
    "print(\"out-degree\", out_degreeCentralityMeasure(D, 5))\n",
    "print()\n",
    "print(\"betweenness\", betweennessCentrality(D, 5))\n",
    "print()\n",
    "print(\"closeness\", closenessFinder(D, 5))\n",
    "print()\n",
    "print(\"eigenvector\", eigenVectorCentrality(D, 5))"
   ]
  },
  {
   "cell_type": "markdown",
   "id": "0b361b62",
   "metadata": {},
   "source": [
    "### Temporal Analysis"
   ]
  },
  {
   "cell_type": "code",
   "execution_count": 9,
   "id": "66904349",
   "metadata": {},
   "outputs": [],
   "source": [
    "def create_temporal_graph(startYear, endYear):\n",
    "    data_War = data.loc[(data['YearOrdered'] >= startYear) & (data['YearOrdered'] <= endYear)]\n",
    "    G_War=nx.from_pandas_edgelist(data_War, 'Seller', 'Buyer', create_using=nx.MultiDiGraph)\n",
    "    D = create_digraph(G_War)\n",
    "    return D"
   ]
  },
  {
   "cell_type": "code",
   "execution_count": 10,
   "id": "077c6212",
   "metadata": {},
   "outputs": [
    {
     "name": "stdout",
     "output_type": "stream",
     "text": [
      "{'Egypt': 0.11483253588516745, 'Iraq': 0.11004784688995214, 'Iran': 0.11004784688995214, 'Morocco': 0.10047846889952153, 'India': 0.10047846889952153}\n",
      "\n",
      "{'United States': 0.6650717703349283, 'France': 0.5502392344497608, 'United Kingdom': 0.5263157894736842, 'Germany': 0.41148325358851673, 'Italy': 0.41148325358851673}\n"
     ]
    }
   ],
   "source": [
    "G_ColdWar= create_temporal_graph(1947, 1991)\n",
    "print(in_degreeCentralityMeasure(G_ColdWar, 5))\n",
    "print()\n",
    "print(out_degreeCentralityMeasure(G_ColdWar, 5))"
   ]
  },
  {
   "cell_type": "code",
   "execution_count": 11,
   "id": "580e6492",
   "metadata": {
    "scrolled": true
   },
   "outputs": [
    {
     "name": "stdout",
     "output_type": "stream",
     "text": [
      "{'Indonesia': 0.14150943396226415, 'UAE': 0.13679245283018868, 'Iraq': 0.1320754716981132, 'United States': 0.12735849056603774, 'Malaysia': 0.12264150943396226}\n",
      "\n",
      "{'United States': 0.6509433962264151, 'France': 0.5047169811320754, 'Russia': 0.44811320754716977, 'Italy': 0.4245283018867924, 'Germany': 0.410377358490566}\n"
     ]
    }
   ],
   "source": [
    "G_Afghanistan= create_temporal_graph(1999, 2021)\n",
    "print(in_degreeCentralityMeasure(G_Afghanistan, 5))\n",
    "print()\n",
    "print(out_degreeCentralityMeasure(G_Afghanistan, 5))"
   ]
  },
  {
   "cell_type": "markdown",
   "id": "d89cacb1",
   "metadata": {},
   "source": [
    "### Attribute Analysis"
   ]
  },
  {
   "cell_type": "code",
   "execution_count": 12,
   "id": "c51f0d2f",
   "metadata": {},
   "outputs": [],
   "source": [
    "data_army = data.loc[(data['Category'] == 'Armoured vehicles') ^ (data['Category'] == 'Artillery')]\n",
    "G_army = nx.from_pandas_edgelist(data_army, 'Seller', 'Buyer', create_using=nx.MultiDiGraph)\n",
    "D_army = create_digraph(G_army)"
   ]
  },
  {
   "cell_type": "code",
   "execution_count": 13,
   "id": "09f252b8",
   "metadata": {},
   "outputs": [
    {
     "name": "stdout",
     "output_type": "stream",
     "text": [
      "ARMY\n",
      "\n",
      "in degree {'Iraq': 0.15196078431372548, 'Nigeria': 0.11274509803921569, 'Indonesia': 0.10784313725490197, 'Saudi Arabia': 0.09313725490196079, 'Egypt': 0.08823529411764705}\n",
      "\n",
      "out degree {'United States': 0.5490196078431373, 'United Kingdom': 0.43137254901960786, 'France': 0.4166666666666667, 'China': 0.3676470588235294, 'Soviet Union': 0.3137254901960784}\n",
      "\n",
      "betweenness {'United States': 0.12674516266348312, 'France': 0.03687077668146762, 'Israel': 0.03581671847943496, 'United Kingdom': 0.0336519506975175, 'Jordan': 0.02696062875203462}\n",
      "\n",
      "closeness {'Iraq': 0.18424440483264012, 'Jordan': 0.14592156862745098, 'Somalia': 0.1428889737713267, 'Morocco': 0.14088968920901693, 'Indonesia': 0.13818330362448009}\n",
      "\n",
      "eigenvector {'Iraq': 0.1604787453587017, 'Jordan': 0.15369117467246535, 'Nigeria': 0.15100487245856808, 'Indonesia': 0.15095463320994704, 'Pakistan': 0.14789072171562415}\n"
     ]
    }
   ],
   "source": [
    "print(\"ARMY\")\n",
    "print()\n",
    "print(\"in degree\", in_degreeCentralityMeasure(D_army, 5))\n",
    "print()\n",
    "print(\"out degree\", out_degreeCentralityMeasure(D_army, 5))\n",
    "print()\n",
    "print(\"betweenness\", betweennessCentrality(D_army, 5))\n",
    "print()\n",
    "print(\"closeness\", closenessFinder(D_army, 5))\n",
    "print()\n",
    "print(\"eigenvector\", eigenVectorCentrality(D_army, 5))"
   ]
  },
  {
   "cell_type": "code",
   "execution_count": 14,
   "id": "1021cf0d",
   "metadata": {},
   "outputs": [],
   "source": [
    "G_aircraft = nx.from_pandas_edgelist(data[data['Category'] == 'Aircraft'], 'Seller', 'Buyer', create_using=nx.MultiDiGraph)\n",
    "D_aircraft = create_digraph(G_aircraft)"
   ]
  },
  {
   "cell_type": "code",
   "execution_count": 15,
   "id": "f0feaa2f",
   "metadata": {},
   "outputs": [
    {
     "name": "stdout",
     "output_type": "stream",
     "text": [
      "AIRCRAFT\n",
      "\n",
      "in degree {'United States': 0.14634146341463414, 'Pakistan': 0.13170731707317074, 'Peru': 0.12682926829268293, 'Angola': 0.12195121951219512, 'Jordan': 0.12195121951219512}\n",
      "\n",
      "out degree {'United States': 0.7560975609756098, 'France': 0.6, 'Italy': 0.4878048780487805, 'United Kingdom': 0.47317073170731705, 'Germany': 0.4146341463414634}\n",
      "\n",
      "betweenness {'United States': 0.12674516266348312, 'France': 0.03687077668146762, 'Israel': 0.03581671847943496, 'United Kingdom': 0.0336519506975175, 'Jordan': 0.02696062875203462}\n",
      "\n",
      "closeness {'United States': 0.2332183224271267, 'Jordan': 0.2332183224271267, 'Nigeria': 0.2265865217893885, 'Pakistan': 0.2265865217893885, 'Ecuador': 0.2207261891623441}\n",
      "\n",
      "eigenvector {'Iraq': 0.1604787453587017, 'Jordan': 0.15369117467246535, 'Nigeria': 0.15100487245856808, 'Indonesia': 0.15095463320994704, 'Pakistan': 0.14789072171562415}\n"
     ]
    }
   ],
   "source": [
    "print(\"AIRCRAFT\")\n",
    "print()\n",
    "print(\"in degree\", in_degreeCentralityMeasure(D_aircraft, 5))\n",
    "print()\n",
    "print(\"out degree\", out_degreeCentralityMeasure(D_aircraft, 5))\n",
    "print()\n",
    "print(\"betweenness\", betweennessCentrality(D_aircraft, 5))\n",
    "print()\n",
    "print(\"closeness\", closenessFinder(D_aircraft, 5))\n",
    "print()\n",
    "print(\"eigenvector\", eigenVectorCentrality(D_aircraft, 5))"
   ]
  },
  {
   "cell_type": "code",
   "execution_count": 16,
   "id": "cbe6cc39",
   "metadata": {},
   "outputs": [],
   "source": [
    "data_navy = data.loc[(data['Category'] == 'Naval weapons') ^ (data['Category'] == 'Ships')]\n",
    "data_navy\n",
    "G_navy = nx.from_pandas_edgelist(data_navy, 'Seller', 'Buyer', create_using=nx.MultiDiGraph)\n",
    "D_navy = create_digraph(G_navy)"
   ]
  },
  {
   "cell_type": "code",
   "execution_count": 17,
   "id": "08119e7b",
   "metadata": {},
   "outputs": [
    {
     "name": "stdout",
     "output_type": "stream",
     "text": [
      "NAVY\n",
      "\n",
      "in degree {'Indonesia': 0.10897435897435898, 'Egypt': 0.10897435897435898, 'India': 0.08974358974358974, 'Iran': 0.08333333333333333, 'Nigeria': 0.08333333333333333}\n",
      "\n",
      "out degree {'United States': 0.5128205128205128, 'United Kingdom': 0.4358974358974359, 'France': 0.3717948717948718, 'Germany': 0.358974358974359, 'Italy': 0.358974358974359}\n",
      "\n",
      "betweenness {'United States': 0.12674516266348312, 'France': 0.03687077668146762, 'Israel': 0.03581671847943496, 'United Kingdom': 0.0336519506975175, 'Jordan': 0.02696062875203462}\n",
      "\n",
      "closeness {'Egypt': 0.14245014245014245, 'Indonesia': 0.13776428250112463, 'Nigeria': 0.126232741617357, 'India': 0.12155745489078822, 'Iran': 0.12040133779264214}\n",
      "\n",
      "eigenvector {'Iraq': 0.1604787453587017, 'Jordan': 0.15369117467246535, 'Nigeria': 0.15100487245856808, 'Indonesia': 0.15095463320994704, 'Pakistan': 0.14789072171562415}\n"
     ]
    }
   ],
   "source": [
    "print(\"NAVY\")\n",
    "print()\n",
    "print(\"in degree\", in_degreeCentralityMeasure(D_navy, 5))\n",
    "print()\n",
    "print(\"out degree\", out_degreeCentralityMeasure(D_navy, 5))\n",
    "print()\n",
    "print(\"betweenness\", betweennessCentrality(D_navy, 5))\n",
    "print()\n",
    "print(\"closeness\", closenessFinder(D_navy, 5))\n",
    "print()\n",
    "print(\"eigenvector\", eigenVectorCentrality(D_navy, 5))"
   ]
  },
  {
   "cell_type": "markdown",
   "id": "e19d14a0",
   "metadata": {},
   "source": [
    "### Reciprocity and Neighborhood Overlap"
   ]
  },
  {
   "cell_type": "code",
   "execution_count": 18,
   "id": "eacd61ed",
   "metadata": {},
   "outputs": [
    {
     "data": {
      "text/plain": [
       "[('Finland', 0.46153846153846156),\n",
       " ('Norway', 0.4406779661016949),\n",
       " ('Denmark', 0.3728813559322034),\n",
       " ('Sweden', 0.36893203883495146),\n",
       " ('Jordan', 0.3333333333333333),\n",
       " ('Mujahedin (Afghanistan)*', 0.3333333333333333),\n",
       " ('United Kingdom', 0.3157894736842105),\n",
       " ('Austria', 0.3125),\n",
       " ('Netherlands', 0.30303030303030304),\n",
       " ('United States', 0.28837209302325584)]"
      ]
     },
     "execution_count": 18,
     "metadata": {},
     "output_type": "execute_result"
    }
   ],
   "source": [
    "reciprocities_dict = {}\n",
    "reciprocities_list = []\n",
    "for node in D.nodes:\n",
    "    rec = nx.reciprocity(D, node)\n",
    "    if rec:\n",
    "        reciprocities_dict[node] = rec\n",
    "        reciprocities_list.append((node, rec))\n",
    "reciprocities_list.sort(key = lambda x: x[1], reverse = True)\n",
    "reciprocities_list.pop(0)\n",
    "reciprocities_list[:10]"
   ]
  },
  {
   "cell_type": "code",
   "execution_count": 19,
   "id": "430233ce",
   "metadata": {},
   "outputs": [],
   "source": [
    "def neighborhood_overlap(countries):\n",
    "    \n",
    "    def calculate_overlap(G, u, v):\n",
    "        n_common_nbrs = len(set(nx.common_neighbors(G, u, v)))\n",
    "        n_join_nbrs = G.degree(u) + G.degree(v) - n_common_nbrs - 2\n",
    "        return n_common_nbrs / n_join_nbrs\n",
    "    \n",
    "    G_multi = nx.from_pandas_edgelist(data, 'Seller', 'Buyer', create_using=nx.MultiGraph)\n",
    "    G_regular = nx.Graph()\n",
    "    for u,v in G_multi.edges():\n",
    "        if G_regular.has_edge(u,v):\n",
    "            G_regular[u][v]['weight'] += 1\n",
    "        else:\n",
    "            G_regular.add_edge(u, v, weight=1)\n",
    "    overlaps = {}\n",
    "    for i in range(len(countries)):\n",
    "        for j in range(i+1, len(countries)):\n",
    "            overlap = calculate_overlap(G_regular, countries[i], countries[j])\n",
    "            overlaps[(countries[i], countries[j])] = overlap\n",
    "    return overlaps"
   ]
  },
  {
   "cell_type": "code",
   "execution_count": 20,
   "id": "7818cae1",
   "metadata": {},
   "outputs": [],
   "source": [
    "def reciprocity(countries):\n",
    "    recs = {}\n",
    "    for country in countries:\n",
    "        recs[country] = reciprocities_dict[country]\n",
    "    return recs"
   ]
  },
  {
   "cell_type": "code",
   "execution_count": 21,
   "id": "b266aac6",
   "metadata": {},
   "outputs": [
    {
     "name": "stdout",
     "output_type": "stream",
     "text": [
      "NORDIC COUNTRIES\n"
     ]
    },
    {
     "data": {
      "text/plain": [
       "({('Denmark', 'Finland'): 0.43333333333333335,\n",
       "  ('Denmark', 'Norway'): 0.4603174603174603,\n",
       "  ('Denmark', 'Sweden'): 0.4444444444444444,\n",
       "  ('Finland', 'Norway'): 0.4482758620689655,\n",
       "  ('Finland', 'Sweden'): 0.40229885057471265,\n",
       "  ('Norway', 'Sweden'): 0.4222222222222222},\n",
       " {'Denmark': 0.3728813559322034,\n",
       "  'Finland': 0.46153846153846156,\n",
       "  'Norway': 0.4406779661016949,\n",
       "  'Sweden': 0.36893203883495146})"
      ]
     },
     "execution_count": 21,
     "metadata": {},
     "output_type": "execute_result"
    }
   ],
   "source": [
    "print(\"NORDIC COUNTRIES\")\n",
    "countries = ['Denmark', 'Finland', 'Norway', 'Sweden']\n",
    "overlaps = neighborhood_overlap(countries)\n",
    "recips = reciprocity(countries)\n",
    "overlaps, recips"
   ]
  },
  {
   "cell_type": "code",
   "execution_count": 22,
   "id": "3deb3003",
   "metadata": {},
   "outputs": [
    {
     "name": "stdout",
     "output_type": "stream",
     "text": [
      "WESTERN EUROPEAN COUNTRIES\n"
     ]
    },
    {
     "data": {
      "text/plain": [
       "({('United Kingdom', 'France'): 0.6708074534161491,\n",
       "  ('United Kingdom', 'Germany'): 0.6442953020134228,\n",
       "  ('United Kingdom', 'Italy'): 0.6896551724137931,\n",
       "  ('United Kingdom', 'Spain'): 0.4794520547945205,\n",
       "  ('United Kingdom', 'Poland'): 0.34057971014492755,\n",
       "  ('France', 'Germany'): 0.7105263157894737,\n",
       "  ('France', 'Italy'): 0.6883116883116883,\n",
       "  ('France', 'Spain'): 0.5298013245033113,\n",
       "  ('France', 'Poland'): 0.35135135135135137,\n",
       "  ('Germany', 'Italy'): 0.6737588652482269,\n",
       "  ('Germany', 'Spain'): 0.5,\n",
       "  ('Germany', 'Poland'): 0.3333333333333333,\n",
       "  ('Italy', 'Spain'): 0.4785714285714286,\n",
       "  ('Italy', 'Poland'): 0.3968253968253968,\n",
       "  ('Spain', 'Poland'): 0.3125},\n",
       " {'United Kingdom': 0.3157894736842105,\n",
       "  'France': 0.24539877300613497,\n",
       "  'Germany': 0.25,\n",
       "  'Italy': 0.16923076923076924,\n",
       "  'Spain': 0.2,\n",
       "  'Poland': 0.23880597014925373})"
      ]
     },
     "execution_count": 22,
     "metadata": {},
     "output_type": "execute_result"
    }
   ],
   "source": [
    "print(\"WESTERN EUROPEAN COUNTRIES\")\n",
    "countries = ['United Kingdom', 'France', 'Germany', 'Italy', 'Spain', 'Poland']\n",
    "overlaps = neighborhood_overlap(countries)\n",
    "recips = reciprocity(countries)\n",
    "overlaps, recips"
   ]
  },
  {
   "cell_type": "code",
   "execution_count": 23,
   "id": "834bd367",
   "metadata": {},
   "outputs": [
    {
     "name": "stdout",
     "output_type": "stream",
     "text": [
      "NORTH AMERICAN COUNTRIES\n"
     ]
    },
    {
     "data": {
      "text/plain": [
       "({('United States', 'Canada'): 0.6162162162162163,\n",
       "  ('United States', 'Mexico'): 0.12021857923497267,\n",
       "  ('Canada', 'Mexico'): 0.1794871794871795},\n",
       " {'United States': 0.28837209302325584,\n",
       "  'Canada': 0.2537313432835821,\n",
       "  'Mexico': 0.08333333333333333})"
      ]
     },
     "execution_count": 23,
     "metadata": {},
     "output_type": "execute_result"
    }
   ],
   "source": [
    "print(\"NORTH AMERICAN COUNTRIES\")\n",
    "countries = ['United States', 'Canada', 'Mexico']\n",
    "overlaps = neighborhood_overlap(countries)\n",
    "recips = reciprocity(countries)\n",
    "overlaps, recips"
   ]
  },
  {
   "cell_type": "code",
   "execution_count": 24,
   "id": "09f11bc5",
   "metadata": {
    "scrolled": true
   },
   "outputs": [
    {
     "name": "stdout",
     "output_type": "stream",
     "text": [
      "MIDDLE EASTERN COUNTRIES\n"
     ]
    },
    {
     "data": {
      "text/plain": [
       "({('Libya', 'Iran'): 0.2903225806451613,\n",
       "  ('Libya', 'Syria'): 0.21428571428571427,\n",
       "  ('Libya', 'UAE'): 0.24705882352941178,\n",
       "  ('Iran', 'Syria'): 0.28,\n",
       "  ('Iran', 'UAE'): 0.3246753246753247,\n",
       "  ('Syria', 'UAE'): 0.2},\n",
       " {'Libya': 0.1702127659574468,\n",
       "  'Iran': 0.14285714285714285,\n",
       "  'Syria': 0.13793103448275862,\n",
       "  'UAE': 0.19444444444444445})"
      ]
     },
     "execution_count": 24,
     "metadata": {},
     "output_type": "execute_result"
    }
   ],
   "source": [
    "print(\"MIDDLE EASTERN COUNTRIES\")\n",
    "countries = ['Libya', 'Iran', 'Syria', 'UAE']\n",
    "overlaps = neighborhood_overlap(countries)\n",
    "recips = reciprocity(countries)\n",
    "overlaps, recips"
   ]
  },
  {
   "cell_type": "code",
   "execution_count": 25,
   "id": "189d4971",
   "metadata": {},
   "outputs": [
    {
     "name": "stdout",
     "output_type": "stream",
     "text": [
      "AFRICAN COUNTRIES\n"
     ]
    },
    {
     "data": {
      "text/plain": [
       "({('Zimbabwe', 'Sudan'): 0.325,\n",
       "  ('Zimbabwe', 'Uganda'): 0.5,\n",
       "  ('Zimbabwe', 'Ghana'): 0.4375,\n",
       "  ('Sudan', 'Uganda'): 0.38461538461538464,\n",
       "  ('Sudan', 'Ghana'): 0.30952380952380953,\n",
       "  ('Uganda', 'Ghana'): 0.46875},\n",
       " {'Zimbabwe': 0.08333333333333333,\n",
       "  'Sudan': 0.06060606060606061,\n",
       "  'Uganda': 0.08,\n",
       "  'Ghana': 0.07692307692307693})"
      ]
     },
     "execution_count": 25,
     "metadata": {},
     "output_type": "execute_result"
    }
   ],
   "source": [
    "print(\"AFRICAN COUNTRIES\")\n",
    "countries = ['Zimbabwe', 'Sudan', 'Uganda', 'Ghana']\n",
    "overlaps = neighborhood_overlap(countries)\n",
    "recips = reciprocity(countries)\n",
    "overlaps, recips"
   ]
  },
  {
   "cell_type": "markdown",
   "id": "6226d32f",
   "metadata": {},
   "source": [
    "### Gephi Graphs"
   ]
  },
  {
   "cell_type": "code",
   "execution_count": 26,
   "id": "d55c4804",
   "metadata": {},
   "outputs": [],
   "source": [
    "# UNCOMMENT this code to create the gephi graphs\n",
    "\n",
    "# nx.write_gexf(D, \"wholeGraph.gexf\")\n",
    "# nx.write_gexf(G_ColdWar, \"coldWar.gexf\")\n",
    "# nx.write_gexf(G_Afghanistan, \"afghanistan.gexf\")\n",
    "# nx.write_gexf(D_navy, \"navy.gexf\")"
   ]
  }
 ],
 "metadata": {
  "kernelspec": {
   "display_name": "Python 3 (ipykernel)",
   "language": "python",
   "name": "python3"
  },
  "language_info": {
   "codemirror_mode": {
    "name": "ipython",
    "version": 3
   },
   "file_extension": ".py",
   "mimetype": "text/x-python",
   "name": "python",
   "nbconvert_exporter": "python",
   "pygments_lexer": "ipython3",
   "version": "3.9.7"
  }
 },
 "nbformat": 4,
 "nbformat_minor": 5
}
